{
 "cells": [
  {
   "cell_type": "code",
   "execution_count": 251,
   "metadata": {},
   "outputs": [],
   "source": [
    "import numpy as np\n",
    "import pandas as pd\n",
    "import math\n",
    "import pickle\n",
    "import matplotlib.pyplot as plt\n",
    "%matplotlib inline\n",
    "import seaborn as sns\n",
    "from sklearn.model_selection import train_test_split\n",
    "from sklearn.ensemble import RandomForestClassifier\n",
    "from sklearn.model_selection import train_test_split,KFold,GridSearchCV\n",
    "from sklearn.metrics import classification_report,confusion_matrix"
   ]
  },
  {
   "cell_type": "code",
   "execution_count": 200,
   "metadata": {},
   "outputs": [],
   "source": [
    "# importing cost matrix created using k-strip algorithm \n",
    "mat2 = numpy.load(\"protein_big .dat\")"
   ]
  },
  {
   "cell_type": "code",
   "execution_count": 201,
   "metadata": {},
   "outputs": [
    {
     "data": {
      "text/plain": [
       "array([[   0.,  132.,  116., ...,  122.,  227.,  110.],\n",
       "       [ 132.,    0.,  123., ...,  131.,  233.,  132.],\n",
       "       [ 116.,  123.,    0., ...,  111.,  241.,  116.],\n",
       "       ..., \n",
       "       [ 122.,  131.,  111., ...,    0.,  233.,  121.],\n",
       "       [ 227.,  233.,  241., ...,  233.,    0.,  227.],\n",
       "       [ 110.,  132.,  116., ...,  121.,  227.,    0.]])"
      ]
     },
     "execution_count": 201,
     "metadata": {},
     "output_type": "execute_result"
    }
   ],
   "source": [
    "mat2"
   ]
  },
  {
   "cell_type": "code",
   "execution_count": 202,
   "metadata": {},
   "outputs": [],
   "source": [
    "# importing pickled dataframe used to derive cost matrix\n",
    "protein = pd.read_pickle(\"protein_4000\")"
   ]
  },
  {
   "cell_type": "code",
   "execution_count": 203,
   "metadata": {},
   "outputs": [
    {
     "data": {
      "text/html": [
       "<div>\n",
       "<style>\n",
       "    .dataframe thead tr:only-child th {\n",
       "        text-align: right;\n",
       "    }\n",
       "\n",
       "    .dataframe thead th {\n",
       "        text-align: left;\n",
       "    }\n",
       "\n",
       "    .dataframe tbody tr th {\n",
       "        vertical-align: top;\n",
       "    }\n",
       "</style>\n",
       "<table border=\"1\" class=\"dataframe\">\n",
       "  <thead>\n",
       "    <tr style=\"text-align: right;\">\n",
       "      <th></th>\n",
       "      <th>Protein</th>\n",
       "      <th>Unknown</th>\n",
       "      <th>Label</th>\n",
       "      <th>Protein string</th>\n",
       "    </tr>\n",
       "  </thead>\n",
       "  <tbody>\n",
       "    <tr>\n",
       "      <th>0</th>\n",
       "      <td>1GME_A</td>\n",
       "      <td>151</td>\n",
       "      <td>1</td>\n",
       "      <td>MSIVRRSNVFDPFADLWADPFDTFRSIVPAISGGGSETAAFANARM...</td>\n",
       "    </tr>\n",
       "    <tr>\n",
       "      <th>2</th>\n",
       "      <td>1TVG_A</td>\n",
       "      <td>153</td>\n",
       "      <td>16</td>\n",
       "      <td>MGHHHHHHSHMRKIDLCLSSEGSEVILATSSDEKHPPENIIDGNPE...</td>\n",
       "    </tr>\n",
       "    <tr>\n",
       "      <th>3</th>\n",
       "      <td>2N3JB</td>\n",
       "      <td>98</td>\n",
       "      <td>99</td>\n",
       "      <td>MQLSSGVSEIRHTADRWRVSLDVNHFAPDELTVKTKDGVVEITGKH...</td>\n",
       "    </tr>\n",
       "    <tr>\n",
       "      <th>5</th>\n",
       "      <td>3L1E_A</td>\n",
       "      <td>106</td>\n",
       "      <td>99</td>\n",
       "      <td>GSGISEVRSDRDKFVIFLDVKHFSPEDLTVKVQEDFVEIHGKHNER...</td>\n",
       "    </tr>\n",
       "    <tr>\n",
       "      <th>6</th>\n",
       "      <td>4JUSA</td>\n",
       "      <td>104</td>\n",
       "      <td>99</td>\n",
       "      <td>APSVALPVAQVPTDPGHFSVLLDVKHFSPEEIAVKVVGEHVEVHAR...</td>\n",
       "    </tr>\n",
       "  </tbody>\n",
       "</table>\n",
       "</div>"
      ],
      "text/plain": [
       "  Protein  Unknown  Label                                     Protein string\n",
       "0  1GME_A      151      1  MSIVRRSNVFDPFADLWADPFDTFRSIVPAISGGGSETAAFANARM...\n",
       "2  1TVG_A      153     16  MGHHHHHHSHMRKIDLCLSSEGSEVILATSSDEKHPPENIIDGNPE...\n",
       "3   2N3JB       98     99  MQLSSGVSEIRHTADRWRVSLDVNHFAPDELTVKTKDGVVEITGKH...\n",
       "5  3L1E_A      106     99  GSGISEVRSDRDKFVIFLDVKHFSPEDLTVKVQEDFVEIHGKHNER...\n",
       "6   4JUSA      104     99  APSVALPVAQVPTDPGHFSVLLDVKHFSPEEIAVKVVGEHVEVHAR..."
      ]
     },
     "execution_count": 203,
     "metadata": {},
     "output_type": "execute_result"
    }
   ],
   "source": [
    "protein.head()"
   ]
  },
  {
   "cell_type": "markdown",
   "metadata": {},
   "source": [
    "### Creating the combined dataframe"
   ]
  },
  {
   "cell_type": "code",
   "execution_count": 204,
   "metadata": {},
   "outputs": [],
   "source": [
    "# creating a list of column names : Pr_1 until Pr_4000\n",
    "pr_rowname = []\n",
    "for i in range(1,4001):\n",
    "    pr_rowname.append(\"Pr_\"+str(i))\n",
    "    "
   ]
  },
  {
   "cell_type": "code",
   "execution_count": 205,
   "metadata": {},
   "outputs": [],
   "source": [
    "# creating dataframe from cost matrix\n",
    "protein_cmb = pd.DataFrame(data=mat2[:,:],    # values\n",
    "                           index=pr_rowname,  # 1s t column as index\n",
    "                           columns=pr_rowname) "
   ]
  },
  {
   "cell_type": "code",
   "execution_count": 208,
   "metadata": {},
   "outputs": [
    {
     "name": "stdout",
     "output_type": "stream",
     "text": [
      "<class 'pandas.core.frame.DataFrame'>\n",
      "Index: 4000 entries, Pr_1 to Pr_4000\n",
      "Columns: 4001 entries, Pr_1 to Label\n",
      "dtypes: float64(4000), int64(1)\n",
      "memory usage: 122.1+ MB\n"
     ]
    }
   ],
   "source": [
    "# combining the labels to the dataframe 'protein_cmb\"\n",
    "se = pd.Series(protein['Label'].tolist())\n",
    "protein_cmb['Label'] = se.values\n",
    "protein_cmb.info()"
   ]
  },
  {
   "cell_type": "code",
   "execution_count": 210,
   "metadata": {},
   "outputs": [
    {
     "data": {
      "text/html": [
       "<div>\n",
       "<style>\n",
       "    .dataframe thead tr:only-child th {\n",
       "        text-align: right;\n",
       "    }\n",
       "\n",
       "    .dataframe thead th {\n",
       "        text-align: left;\n",
       "    }\n",
       "\n",
       "    .dataframe tbody tr th {\n",
       "        vertical-align: top;\n",
       "    }\n",
       "</style>\n",
       "<table border=\"1\" class=\"dataframe\">\n",
       "  <thead>\n",
       "    <tr style=\"text-align: right;\">\n",
       "      <th></th>\n",
       "      <th>Pr_1</th>\n",
       "      <th>Pr_2</th>\n",
       "      <th>Pr_3</th>\n",
       "      <th>Pr_4</th>\n",
       "      <th>Pr_5</th>\n",
       "      <th>Pr_6</th>\n",
       "      <th>Pr_7</th>\n",
       "      <th>Pr_8</th>\n",
       "      <th>Pr_9</th>\n",
       "      <th>Pr_10</th>\n",
       "      <th>...</th>\n",
       "      <th>Pr_3992</th>\n",
       "      <th>Pr_3993</th>\n",
       "      <th>Pr_3994</th>\n",
       "      <th>Pr_3995</th>\n",
       "      <th>Pr_3996</th>\n",
       "      <th>Pr_3997</th>\n",
       "      <th>Pr_3998</th>\n",
       "      <th>Pr_3999</th>\n",
       "      <th>Pr_4000</th>\n",
       "      <th>Label</th>\n",
       "    </tr>\n",
       "  </thead>\n",
       "  <tbody>\n",
       "    <tr>\n",
       "      <th>count</th>\n",
       "      <td>4000.00000</td>\n",
       "      <td>4000.000000</td>\n",
       "      <td>4000.000000</td>\n",
       "      <td>4000.00000</td>\n",
       "      <td>4000.000000</td>\n",
       "      <td>4000.000000</td>\n",
       "      <td>4000.000000</td>\n",
       "      <td>4000.000000</td>\n",
       "      <td>4000.000000</td>\n",
       "      <td>4000.000000</td>\n",
       "      <td>...</td>\n",
       "      <td>4000.000000</td>\n",
       "      <td>4000.000000</td>\n",
       "      <td>4000.000000</td>\n",
       "      <td>4000.000000</td>\n",
       "      <td>4000.000000</td>\n",
       "      <td>4000.000000</td>\n",
       "      <td>4000.000000</td>\n",
       "      <td>4000.000000</td>\n",
       "      <td>4000.000000</td>\n",
       "      <td>4000.000000</td>\n",
       "    </tr>\n",
       "    <tr>\n",
       "      <th>mean</th>\n",
       "      <td>129.98400</td>\n",
       "      <td>144.258500</td>\n",
       "      <td>131.591250</td>\n",
       "      <td>133.76550</td>\n",
       "      <td>133.202750</td>\n",
       "      <td>133.518250</td>\n",
       "      <td>159.813250</td>\n",
       "      <td>195.331750</td>\n",
       "      <td>165.369250</td>\n",
       "      <td>158.536750</td>\n",
       "      <td>...</td>\n",
       "      <td>134.350750</td>\n",
       "      <td>225.552750</td>\n",
       "      <td>133.140250</td>\n",
       "      <td>232.444500</td>\n",
       "      <td>134.460750</td>\n",
       "      <td>134.138000</td>\n",
       "      <td>133.256750</td>\n",
       "      <td>228.764250</td>\n",
       "      <td>133.945000</td>\n",
       "      <td>38.089000</td>\n",
       "    </tr>\n",
       "    <tr>\n",
       "      <th>std</th>\n",
       "      <td>40.67207</td>\n",
       "      <td>32.193412</td>\n",
       "      <td>39.510675</td>\n",
       "      <td>38.49626</td>\n",
       "      <td>38.702527</td>\n",
       "      <td>38.398578</td>\n",
       "      <td>46.502726</td>\n",
       "      <td>15.867944</td>\n",
       "      <td>24.436503</td>\n",
       "      <td>26.084512</td>\n",
       "      <td>...</td>\n",
       "      <td>38.462847</td>\n",
       "      <td>16.409419</td>\n",
       "      <td>40.786952</td>\n",
       "      <td>20.466733</td>\n",
       "      <td>38.348945</td>\n",
       "      <td>38.445149</td>\n",
       "      <td>39.778115</td>\n",
       "      <td>16.816268</td>\n",
       "      <td>36.289526</td>\n",
       "      <td>41.452221</td>\n",
       "    </tr>\n",
       "    <tr>\n",
       "      <th>min</th>\n",
       "      <td>0.00000</td>\n",
       "      <td>0.000000</td>\n",
       "      <td>0.000000</td>\n",
       "      <td>0.00000</td>\n",
       "      <td>0.000000</td>\n",
       "      <td>0.000000</td>\n",
       "      <td>0.000000</td>\n",
       "      <td>0.000000</td>\n",
       "      <td>0.000000</td>\n",
       "      <td>0.000000</td>\n",
       "      <td>...</td>\n",
       "      <td>0.000000</td>\n",
       "      <td>0.000000</td>\n",
       "      <td>0.000000</td>\n",
       "      <td>0.000000</td>\n",
       "      <td>0.000000</td>\n",
       "      <td>0.000000</td>\n",
       "      <td>0.000000</td>\n",
       "      <td>0.000000</td>\n",
       "      <td>0.000000</td>\n",
       "      <td>1.000000</td>\n",
       "    </tr>\n",
       "    <tr>\n",
       "      <th>25%</th>\n",
       "      <td>112.00000</td>\n",
       "      <td>129.000000</td>\n",
       "      <td>112.000000</td>\n",
       "      <td>113.00000</td>\n",
       "      <td>113.000000</td>\n",
       "      <td>114.000000</td>\n",
       "      <td>135.000000</td>\n",
       "      <td>190.000000</td>\n",
       "      <td>157.000000</td>\n",
       "      <td>149.000000</td>\n",
       "      <td>...</td>\n",
       "      <td>118.000000</td>\n",
       "      <td>223.000000</td>\n",
       "      <td>113.000000</td>\n",
       "      <td>231.000000</td>\n",
       "      <td>119.000000</td>\n",
       "      <td>118.000000</td>\n",
       "      <td>118.000000</td>\n",
       "      <td>226.000000</td>\n",
       "      <td>114.000000</td>\n",
       "      <td>10.000000</td>\n",
       "    </tr>\n",
       "    <tr>\n",
       "      <th>50%</th>\n",
       "      <td>124.00000</td>\n",
       "      <td>133.000000</td>\n",
       "      <td>118.000000</td>\n",
       "      <td>121.00000</td>\n",
       "      <td>121.000000</td>\n",
       "      <td>121.000000</td>\n",
       "      <td>146.000000</td>\n",
       "      <td>192.000000</td>\n",
       "      <td>161.000000</td>\n",
       "      <td>153.000000</td>\n",
       "      <td>...</td>\n",
       "      <td>124.000000</td>\n",
       "      <td>226.000000</td>\n",
       "      <td>123.000000</td>\n",
       "      <td>233.000000</td>\n",
       "      <td>125.000000</td>\n",
       "      <td>124.000000</td>\n",
       "      <td>125.000000</td>\n",
       "      <td>229.000000</td>\n",
       "      <td>122.000000</td>\n",
       "      <td>12.000000</td>\n",
       "    </tr>\n",
       "    <tr>\n",
       "      <th>75%</th>\n",
       "      <td>138.00000</td>\n",
       "      <td>145.000000</td>\n",
       "      <td>136.000000</td>\n",
       "      <td>141.00000</td>\n",
       "      <td>136.000000</td>\n",
       "      <td>137.000000</td>\n",
       "      <td>170.000000</td>\n",
       "      <td>196.000000</td>\n",
       "      <td>166.000000</td>\n",
       "      <td>158.000000</td>\n",
       "      <td>...</td>\n",
       "      <td>142.000000</td>\n",
       "      <td>229.000000</td>\n",
       "      <td>142.000000</td>\n",
       "      <td>236.000000</td>\n",
       "      <td>143.000000</td>\n",
       "      <td>141.000000</td>\n",
       "      <td>141.000000</td>\n",
       "      <td>232.000000</td>\n",
       "      <td>140.000000</td>\n",
       "      <td>99.000000</td>\n",
       "    </tr>\n",
       "    <tr>\n",
       "      <th>max</th>\n",
       "      <td>409.00000</td>\n",
       "      <td>410.000000</td>\n",
       "      <td>428.000000</td>\n",
       "      <td>427.00000</td>\n",
       "      <td>428.000000</td>\n",
       "      <td>427.000000</td>\n",
       "      <td>490.000000</td>\n",
       "      <td>390.000000</td>\n",
       "      <td>399.000000</td>\n",
       "      <td>400.000000</td>\n",
       "      <td>...</td>\n",
       "      <td>417.000000</td>\n",
       "      <td>394.000000</td>\n",
       "      <td>429.000000</td>\n",
       "      <td>390.000000</td>\n",
       "      <td>417.000000</td>\n",
       "      <td>415.000000</td>\n",
       "      <td>415.000000</td>\n",
       "      <td>396.000000</td>\n",
       "      <td>419.000000</td>\n",
       "      <td>99.000000</td>\n",
       "    </tr>\n",
       "  </tbody>\n",
       "</table>\n",
       "<p>8 rows × 4001 columns</p>\n",
       "</div>"
      ],
      "text/plain": [
       "             Pr_1         Pr_2         Pr_3        Pr_4         Pr_5  \\\n",
       "count  4000.00000  4000.000000  4000.000000  4000.00000  4000.000000   \n",
       "mean    129.98400   144.258500   131.591250   133.76550   133.202750   \n",
       "std      40.67207    32.193412    39.510675    38.49626    38.702527   \n",
       "min       0.00000     0.000000     0.000000     0.00000     0.000000   \n",
       "25%     112.00000   129.000000   112.000000   113.00000   113.000000   \n",
       "50%     124.00000   133.000000   118.000000   121.00000   121.000000   \n",
       "75%     138.00000   145.000000   136.000000   141.00000   136.000000   \n",
       "max     409.00000   410.000000   428.000000   427.00000   428.000000   \n",
       "\n",
       "              Pr_6         Pr_7         Pr_8         Pr_9        Pr_10  \\\n",
       "count  4000.000000  4000.000000  4000.000000  4000.000000  4000.000000   \n",
       "mean    133.518250   159.813250   195.331750   165.369250   158.536750   \n",
       "std      38.398578    46.502726    15.867944    24.436503    26.084512   \n",
       "min       0.000000     0.000000     0.000000     0.000000     0.000000   \n",
       "25%     114.000000   135.000000   190.000000   157.000000   149.000000   \n",
       "50%     121.000000   146.000000   192.000000   161.000000   153.000000   \n",
       "75%     137.000000   170.000000   196.000000   166.000000   158.000000   \n",
       "max     427.000000   490.000000   390.000000   399.000000   400.000000   \n",
       "\n",
       "          ...           Pr_3992      Pr_3993      Pr_3994      Pr_3995  \\\n",
       "count     ...       4000.000000  4000.000000  4000.000000  4000.000000   \n",
       "mean      ...        134.350750   225.552750   133.140250   232.444500   \n",
       "std       ...         38.462847    16.409419    40.786952    20.466733   \n",
       "min       ...          0.000000     0.000000     0.000000     0.000000   \n",
       "25%       ...        118.000000   223.000000   113.000000   231.000000   \n",
       "50%       ...        124.000000   226.000000   123.000000   233.000000   \n",
       "75%       ...        142.000000   229.000000   142.000000   236.000000   \n",
       "max       ...        417.000000   394.000000   429.000000   390.000000   \n",
       "\n",
       "           Pr_3996      Pr_3997      Pr_3998      Pr_3999      Pr_4000  \\\n",
       "count  4000.000000  4000.000000  4000.000000  4000.000000  4000.000000   \n",
       "mean    134.460750   134.138000   133.256750   228.764250   133.945000   \n",
       "std      38.348945    38.445149    39.778115    16.816268    36.289526   \n",
       "min       0.000000     0.000000     0.000000     0.000000     0.000000   \n",
       "25%     119.000000   118.000000   118.000000   226.000000   114.000000   \n",
       "50%     125.000000   124.000000   125.000000   229.000000   122.000000   \n",
       "75%     143.000000   141.000000   141.000000   232.000000   140.000000   \n",
       "max     417.000000   415.000000   415.000000   396.000000   419.000000   \n",
       "\n",
       "             Label  \n",
       "count  4000.000000  \n",
       "mean     38.089000  \n",
       "std      41.452221  \n",
       "min       1.000000  \n",
       "25%      10.000000  \n",
       "50%      12.000000  \n",
       "75%      99.000000  \n",
       "max      99.000000  \n",
       "\n",
       "[8 rows x 4001 columns]"
      ]
     },
     "execution_count": 210,
     "metadata": {},
     "output_type": "execute_result"
    }
   ],
   "source": [
    "# preprocessing - removing any NaNs or infinity values\n",
    "protein_ppr = protein_cmb .replace([np.inf,np.nan],0)\n",
    "protein_ppr.describe()"
   ]
  },
  {
   "cell_type": "markdown",
   "metadata": {},
   "source": [
    "### Training the Random Forest model"
   ]
  },
  {
   "cell_type": "code",
   "execution_count": 225,
   "metadata": {},
   "outputs": [],
   "source": [
    "# splitting dataset into train and test sets\n",
    "X = protein_ppr.drop('Label',axis=1)\n",
    "y = protein_ppr['Label']\n",
    "X_train, X_test, y_train, y_test = train_test_split(X, y, test_size=0.30, random_state=101)"
   ]
  },
  {
   "cell_type": "code",
   "execution_count": 226,
   "metadata": {},
   "outputs": [],
   "source": [
    "# creating an instance of the random forest classifier \n",
    "rfc_base = RandomForestClassifier()"
   ]
  },
  {
   "cell_type": "code",
   "execution_count": 227,
   "metadata": {},
   "outputs": [
    {
     "data": {
      "text/plain": [
       "GridSearchCV(cv=KFold(n_splits=10, random_state=0, shuffle=True),\n",
       "       error_score='raise',\n",
       "       estimator=RandomForestClassifier(bootstrap=True, class_weight=None, criterion='gini',\n",
       "            max_depth=None, max_features='auto', max_leaf_nodes=None,\n",
       "            min_impurity_decrease=0.0, min_impurity_split=None,\n",
       "            min_samples_leaf=1, min_samples_split=2,\n",
       "            min_weight_fraction_leaf=0.0, n_estimators=10, n_jobs=1,\n",
       "            oob_score=False, random_state=None, verbose=0,\n",
       "            warm_start=False),\n",
       "       fit_params=None, iid=True, n_jobs=1,\n",
       "       param_grid={'n_estimators': [200, 400, 600, 800, 1000], 'max_features': ['auto', 'sqrt', 'log2']},\n",
       "       pre_dispatch='2*n_jobs', refit=True, return_train_score='warn',\n",
       "       scoring=None, verbose=0)"
      ]
     },
     "execution_count": 227,
     "metadata": {},
     "output_type": "execute_result"
    }
   ],
   "source": [
    "\"\"\"\n",
    "To avoid overfitting and arrive at optimal tuning for the hyper parmeters the gridsearchCV\n",
    "function is used.\n",
    "param_grid   : Input for parameter values to run the classifer with \n",
    "cv           : Number of splits for conducting a k-fold cross validation \n",
    "n_estimators : Number of tress in the forest\n",
    "max_features : The number of features to consider when looking for the best split\n",
    "\"\"\"\n",
    "\n",
    "param_grid = { \n",
    "    'n_estimators': [200, 400,600,800,1000],\n",
    "    'max_features': ['auto', 'sqrt', 'log2']\n",
    "}\n",
    "\n",
    "cv = KFold(n_splits = 10, shuffle= True, random_state = 0)\n",
    "rfc = GridSearchCV(rfc_base, param_grid = param_grid ,cv=cv)\n",
    "\n",
    "# Fitting the random forest instance call with the training set\n",
    "rfc.fit(X_train,y_train)"
   ]
  },
  {
   "cell_type": "code",
   "execution_count": 230,
   "metadata": {},
   "outputs": [
    {
     "data": {
      "text/plain": [
       "RandomForestClassifier(bootstrap=True, class_weight=None, criterion='gini',\n",
       "            max_depth=None, max_features='auto', max_leaf_nodes=None,\n",
       "            min_impurity_decrease=0.0, min_impurity_split=None,\n",
       "            min_samples_leaf=1, min_samples_split=2,\n",
       "            min_weight_fraction_leaf=0.0, n_estimators=1000, n_jobs=1,\n",
       "            oob_score=False, random_state=None, verbose=0,\n",
       "            warm_start=False)"
      ]
     },
     "execution_count": 230,
     "metadata": {},
     "output_type": "execute_result"
    }
   ],
   "source": [
    "# Best estimator\n",
    "rfc.best_estimator_"
   ]
  },
  {
   "cell_type": "code",
   "execution_count": 231,
   "metadata": {},
   "outputs": [
    {
     "data": {
      "text/plain": [
       "0.86142857142857143"
      ]
     },
     "execution_count": 231,
     "metadata": {},
     "output_type": "execute_result"
    }
   ],
   "source": [
    "# Best score achieved during cross-validation\n",
    "rfc.best_score_"
   ]
  },
  {
   "cell_type": "code",
   "execution_count": 232,
   "metadata": {},
   "outputs": [
    {
     "data": {
      "text/plain": [
       "{'max_features': 'auto', 'n_estimators': 1000}"
      ]
     },
     "execution_count": 232,
     "metadata": {},
     "output_type": "execute_result"
    }
   ],
   "source": [
    "# Best values for hyperparameters\n",
    "rfc.best_params_"
   ]
  },
  {
   "cell_type": "code",
   "execution_count": 229,
   "metadata": {},
   "outputs": [],
   "source": [
    "# pickling the randomforest instance for future use\n",
    "filename = 'rf_4000_py2.sav'\n",
    "pickle.dump(rfc, open(filename, 'wb'),protocol=2)"
   ]
  },
  {
   "cell_type": "code",
   "execution_count": 233,
   "metadata": {},
   "outputs": [],
   "source": [
    "predictions = rfc.predict(X_test)"
   ]
  },
  {
   "cell_type": "code",
   "execution_count": 235,
   "metadata": {},
   "outputs": [
    {
     "name": "stdout",
     "output_type": "stream",
     "text": [
      "             precision    recall  f1-score   support\n",
      "\n",
      "          1       0.97      0.93      0.95        83\n",
      "          2       1.00      1.00      1.00        21\n",
      "          3       0.86      1.00      0.92         6\n",
      "          4       0.83      0.71      0.77         7\n",
      "          5       1.00      1.00      1.00         8\n",
      "          6       0.92      0.92      0.92        24\n",
      "          7       0.95      0.83      0.89        24\n",
      "          8       0.90      1.00      0.95         9\n",
      "          9       1.00      0.97      0.98        65\n",
      "         10       0.95      0.99      0.97       158\n",
      "         11       0.85      0.65      0.73       188\n",
      "         12       0.92      0.89      0.90       112\n",
      "         13       1.00      0.75      0.86        12\n",
      "         14       1.00      0.81      0.90        16\n",
      "         15       1.00      1.00      1.00         4\n",
      "         16       1.00      1.00      1.00        14\n",
      "         17       1.00      1.00      1.00        21\n",
      "         18       1.00      0.50      0.67         2\n",
      "         19       1.00      1.00      1.00         3\n",
      "         20       1.00      0.88      0.94        33\n",
      "         21       1.00      1.00      1.00        28\n",
      "         99       0.76      0.89      0.82       362\n",
      "\n",
      "avg / total       0.88      0.88      0.88      1200\n",
      "\n"
     ]
    }
   ],
   "source": [
    "print(classification_report(y_test,predictions))\n",
    "classification_report()"
   ]
  },
  {
   "cell_type": "markdown",
   "metadata": {},
   "source": [
    "### Accuracy Historgram"
   ]
  },
  {
   "cell_type": "code",
   "execution_count": null,
   "metadata": {},
   "outputs": [],
   "source": [
    "plt.figure(figsize=(10,6))\n",
    "loans[loans['credit.policy']==1]['fico'].hist(alpha=0.5,color='blue',\n",
    "                                              bins=30,label='Credit.Policy=1')\n",
    "loans[loans['credit.policy']==0]['fico'].hist(alpha=0.5,color='red',\n",
    "                                              bins=30,label='Credit.Policy=0')\n",
    "                                             \n",
    "plt.legend()\n",
    "plt.xlabel('FICO')"
   ]
  },
  {
   "cell_type": "code",
   "execution_count": 254,
   "metadata": {},
   "outputs": [],
   "source": [
    "dat_results = pd.DataFrame({\"Predicted_Val\":predictions, \"Actual_Val\":y_test})\n",
    "dat_results = dat_results.replace(99,22)"
   ]
  },
  {
   "cell_type": "code",
   "execution_count": 269,
   "metadata": {},
   "outputs": [
    {
     "data": {
      "text/plain": [
       "<matplotlib.text.Text at 0x1a1edfe240>"
      ]
     },
     "execution_count": 269,
     "metadata": {},
     "output_type": "execute_result"
    },
    {
     "data": {
      "image/png": "[encoded data removed]",
      "text/plain": [
       "<matplotlib.figure.Figure at 0x1a1f561da0>"
      ]
     },
     "metadata": {},
     "output_type": "display_data"
    }
   ],
   "source": [
    "plt.figure(figsize=(13,8))\n",
    "dat_results['Actual_Val'].hist(alpha=0.5,color='blue',\n",
    "                                              bins=30,label='Actual Values')\n",
    "dat_results['Predicted_Val'].hist(alpha=0.5,color='red',\n",
    "                                              bins=30,label='Predicted Values')\n",
    "plt.legend()\n",
    "plt.xlabel(\"Classes\")\n",
    "plt.ylabel(\"Frequency\")\n",
    "plt.title(\"Accuracy Histogram\")"
   ]
  },
  {
   "cell_type": "code",
   "execution_count": null,
   "metadata": {
    "collapsed": true
   },
   "outputs": [],
   "source": []
  }
 ],
 "metadata": {
  "kernelspec": {
   "display_name": "Python 2",
   "language": "python",
   "name": "python2"
  },
  "language_info": {
   "codemirror_mode": {
    "name": "ipython",
    "version": 2
   },
   "file_extension": ".py",
   "mimetype": "text/x-python",
   "name": "python",
   "nbconvert_exporter": "python",
   "pygments_lexer": "ipython2",
   "version": "2.7.13"
  }
 },
 "nbformat": 4,
 "nbformat_minor": 2
}
